{
 "cells": [
  {
   "cell_type": "code",
   "execution_count": 1,
   "metadata": {},
   "outputs": [
    {
     "name": "stdout",
     "output_type": "stream",
     "text": [
      "saleema\n",
      "heart_specialist\n",
      "eye surgeon\n",
      "she does heart operation\n",
      "she is also eye surgeon\n",
      "she does heart operation\n",
      "she is also eye surgeon\n",
      " she performs daily opd between 9am -5pm \n"
     ]
    }
   ],
   "source": [
    "class Doctor:\n",
    "    \n",
    "    \n",
    "    name = \"saleema\"\n",
    "    field = \"heart_specialist\" \n",
    "    field1 = \"eye surgeon\"\n",
    "    \n",
    "    def operate(self):\n",
    "      print (\"she does heart operation\")\n",
    "      print (\"she is also eye surgeon\")\n",
    "    def opd(self):\n",
    "      print (\" she performs daily opd between 9am -5pm \")    \n",
    "obj1 = Doctor()\n",
    "obj2 = Doctor()\n",
    "obj3=  Doctor()\n",
    "print(obj1.name)\n",
    "print(obj2.field)\n",
    "print(obj3.field1)\n",
    "obj1.operate()\n",
    "obj2.operate()\n",
    "obj3.opd()\n"
   ]
  },
  {
   "cell_type": "code",
   "execution_count": 7,
   "metadata": {},
   "outputs": [],
   "source": []
  },
  {
   "cell_type": "code",
   "execution_count": 6,
   "metadata": {},
   "outputs": [
    {
     "name": "stdout",
     "output_type": "stream",
     "text": [
      "saeema\n",
      "age\n",
      "height\n",
      "weight\n",
      "she is 18 years old\n",
      "her height is 5 foot 4 inches\n",
      "her weight i 50 kg\n",
      "she is 18 years old\n",
      "her height is 5 foot 4 inches\n",
      "her weight i 50 kg\n",
      " she performs daily exercise between 9am -10am \n",
      " she performs daily exercise between 9am -10am \n"
     ]
    }
   ],
   "source": [
    "class student:\n",
    "    \n",
    "    name = \"saeema\"\n",
    "    attribute1 = \"age\"\n",
    "    attribute2 = \"height\"\n",
    "    attribute3= \"weight\"\n",
    "        \n",
    "    def studying(self):\n",
    "      print (\"she is 18 years old\")\n",
    "      print (\"her height is 5 foot 4 inches\")\n",
    "      print(\"her weight i 50 kg\")\n",
    "        \n",
    "    def study(self):\n",
    "      print (\" she performs daily exercise between 9am -10am \")\n",
    "    \n",
    "    \n",
    "obj = student()\n",
    "obj1 = student()\n",
    "obj2=  student()\n",
    "obj3= student()\n",
    "print(obj.name)\n",
    "print(obj1.attribute1)\n",
    "print(obj2.attribute2)\n",
    "print(obj3.attribute3)\n",
    "\n",
    "obj.studying()\n",
    "obj1.studying()\n",
    "obj2.study()\n"
   ]
  },
  {
   "cell_type": "code",
   "execution_count": 13,
   "metadata": {},
   "outputs": [
    {
     "ename": "TypeError",
     "evalue": "Teacher() takes no arguments",
     "output_type": "error",
     "traceback": [
      "\u001b[1;31m---------------------------------------------------------------------------\u001b[0m",
      "\u001b[1;31mTypeError\u001b[0m                                 Traceback (most recent call last)",
      "\u001b[1;32m<ipython-input-13-dafdb22fd42d>\u001b[0m in \u001b[0;36m<module>\u001b[1;34m\u001b[0m\n\u001b[0;32m     10\u001b[0m         \u001b[1;32mreturn\u001b[0m \u001b[1;33m(\u001b[0m\u001b[0mself\u001b[0m\u001b[1;33m.\u001b[0m\u001b[0ma\u001b[0m\u001b[1;33m*\u001b[0m \u001b[0mself\u001b[0m\u001b[1;33m.\u001b[0m\u001b[0mb\u001b[0m\u001b[1;33m)\u001b[0m\u001b[1;33m\u001b[0m\u001b[1;33m\u001b[0m\u001b[0m\n\u001b[0;32m     11\u001b[0m \u001b[1;33m\u001b[0m\u001b[0m\n\u001b[1;32m---> 12\u001b[1;33m \u001b[0ms1\u001b[0m \u001b[1;33m=\u001b[0m \u001b[0mTeacher\u001b[0m\u001b[1;33m(\u001b[0m\u001b[1;36m10\u001b[0m\u001b[1;33m,\u001b[0m \u001b[1;36m20\u001b[0m \u001b[1;33m)\u001b[0m\u001b[1;33m\u001b[0m\u001b[1;33m\u001b[0m\u001b[0m\n\u001b[0m\u001b[0;32m     13\u001b[0m \u001b[0mprint\u001b[0m\u001b[1;33m(\u001b[0m\u001b[0ms1\u001b[0m\u001b[1;33m.\u001b[0m\u001b[0msum\u001b[0m\u001b[1;33m(\u001b[0m\u001b[1;33m)\u001b[0m\u001b[1;33m)\u001b[0m\u001b[1;33m\u001b[0m\u001b[1;33m\u001b[0m\u001b[0m\n\u001b[0;32m     14\u001b[0m \u001b[0mprint\u001b[0m\u001b[1;33m(\u001b[0m\u001b[0ms1\u001b[0m\u001b[1;33m.\u001b[0m\u001b[0mproduct\u001b[0m\u001b[1;33m(\u001b[0m\u001b[1;33m)\u001b[0m\u001b[1;33m)\u001b[0m\u001b[1;33m\u001b[0m\u001b[1;33m\u001b[0m\u001b[0m\n",
      "\u001b[1;31mTypeError\u001b[0m: Teacher() takes no arguments"
     ]
    }
   ],
   "source": [
    "class Teacher:\n",
    "    \n",
    "    def _init_(self, a, b ):\n",
    "        self.a = a\n",
    "        self.b = b \n",
    "       \n",
    "    def sum(self):\n",
    "        return (self.a + self.b )\n",
    "    def product(self):\n",
    "        return (self.a* self.b)\n",
    "\n",
    "s1 = Teacher(10, 20 )\n",
    "print(s1.sum())\n",
    "print(s1.product())"
   ]
  },
  {
   "cell_type": "code",
   "execution_count": 2,
   "metadata": {},
   "outputs": [
    {
     "name": "stdout",
     "output_type": "stream",
     "text": [
      "Hania\n",
      "age\n",
      "height\n",
      "weight\n",
      "she is 18 years old\n",
      "her weight is 50 kg\n",
      "her height is  5 foot 4 inches\n",
      "she perform daily exercise between 5am to 7am\n"
     ]
    }
   ],
   "source": [
    "class student:\n",
    "    \n",
    "    name     =\"Hania\"\n",
    "    attribute=\"age\"\n",
    "    attribute1=\"height\"\n",
    "    attribute2=\"weight\"\n",
    "    \n",
    "    def studying (self):\n",
    "        print(\"she is 18 years old\")\n",
    "        print(\"her weight is 50 kg\")\n",
    "        print (\"her height is  5 foot 4 inches\")\n",
    "    def exercise(self):\n",
    "        print(\"she perform daily exercise between 5am to 7am\")\n",
    "        \n",
    "            \n",
    "obj  =  student()\n",
    "\n",
    "       \n",
    "print(obj.name)\n",
    "print(obj.attribute)\n",
    "print(obj1.attribute1)\n",
    "print(obj2.attribute2)\n",
    "\n",
    "obj.studying()\n",
    "\n",
    "obj.exercise()\n",
    "\n",
    "    "
   ]
  },
  {
   "cell_type": "code",
   "execution_count": 14,
   "metadata": {},
   "outputs": [
    {
     "ename": "SyntaxError",
     "evalue": "invalid syntax (<ipython-input-14-e8277d9c07b4>, line 3)",
     "output_type": "error",
     "traceback": [
      "\u001b[1;36m  File \u001b[1;32m\"<ipython-input-14-e8277d9c07b4>\"\u001b[1;36m, line \u001b[1;32m3\u001b[0m\n\u001b[1;33m    def _init_(self a, b ):\u001b[0m\n\u001b[1;37m                    ^\u001b[0m\n\u001b[1;31mSyntaxError\u001b[0m\u001b[1;31m:\u001b[0m invalid syntax\n"
     ]
    }
   ],
   "source": [
    "class Teacher:\n",
    "    \n",
    "    def _init_(self a, b ):\n",
    "        self.a = a\n",
    "        self.b = b \n",
    "       \n",
    "    def sum(self):\n",
    "        return (self.a + self.b )\n",
    "    def product(self):\n",
    "        \n",
    "        return (self.a* self.b)\n",
    "    s1 = Teacher(10,20)\n",
    "    \n",
    "    \n",
    "\n",
    "    print( s1.sum())\n",
    "    print( s1.product())"
   ]
  },
  {
   "cell_type": "code",
   "execution_count": 44,
   "metadata": {},
   "outputs": [
    {
     "name": "stdout",
     "output_type": "stream",
     "text": [
      "9\n"
     ]
    }
   ],
   "source": [
    "a=5\n",
    "b=4\n",
    "c=a+b\n",
    "print(c)\n",
    "\n",
    "\n"
   ]
  },
  {
   "cell_type": "code",
   "execution_count": 52,
   "metadata": {},
   "outputs": [
    {
     "ename": "SyntaxError",
     "evalue": "'return' outside function (<ipython-input-52-503f0d7bef53>, line 4)",
     "output_type": "error",
     "traceback": [
      "\u001b[1;36m  File \u001b[1;32m\"<ipython-input-52-503f0d7bef53>\"\u001b[1;36m, line \u001b[1;32m4\u001b[0m\n\u001b[1;33m    return(c)\u001b[0m\n\u001b[1;37m    ^\u001b[0m\n\u001b[1;31mSyntaxError\u001b[0m\u001b[1;31m:\u001b[0m 'return' outside function\n"
     ]
    }
   ],
   "source": [
    "c= a+b\n",
    "a=5\n",
    "b=4\n",
    "return(c)\n",
    "\n",
    "\n"
   ]
  },
  {
   "cell_type": "code",
   "execution_count": 53,
   "metadata": {},
   "outputs": [
    {
     "name": "stdout",
     "output_type": "stream",
     "text": [
      "saleema\n",
      "heart_specialist\n",
      "eye surgeon\n",
      "she does heart operation\n",
      "she is also eye surgeon\n",
      "she does heart operation\n",
      "she is also eye surgeon\n",
      " she performs daily opd between 9am -5pm \n"
     ]
    }
   ],
   "source": [
    "class Doctor:\n",
    "    \n",
    "    name = \"saleema\"\n",
    "    field = \"heart_specialist\" \n",
    "    field1 = \"eye surgeon\"\n",
    "    \n",
    "    def operate(self):\n",
    "      print (\"she does heart operation\")\n",
    "      print (\"she is also eye surgeon\")\n",
    "    def opd(self):\n",
    "      print (\" she performs daily opd between 9am -5pm \")    \n",
    "obj1 = Doctor()\n",
    "obj2 = Doctor()\n",
    "obj3=  Doctor()\n",
    "print(obj1.name)\n",
    "print(obj2.field)\n",
    "print(obj3.field1)\n",
    "obj1.operate()\n",
    "obj2.operate()\n",
    "obj3.opd()"
   ]
  },
  {
   "cell_type": "code",
   "execution_count": 54,
   "metadata": {},
   "outputs": [
    {
     "name": "stdout",
     "output_type": "stream",
     "text": [
      "Student\n"
     ]
    }
   ],
   "source": [
    "class Student:\n",
    "    name = 'Student'\n",
    "    def __init__(self, a, b):\n",
    "        self.a = a\n",
    "        self.b = b \n",
    "    \n",
    "    @classmethod\n",
    "    def info(cls):\n",
    "        return cls.name\n",
    "\n",
    "print(Student.info())\n"
   ]
  },
  {
   "cell_type": "code",
   "execution_count": 15,
   "metadata": {},
   "outputs": [
    {
     "ename": "SyntaxError",
     "evalue": "invalid syntax (<ipython-input-15-7913485b5a77>, line 6)",
     "output_type": "error",
     "traceback": [
      "\u001b[1;36m  File \u001b[1;32m\"<ipython-input-15-7913485b5a77>\"\u001b[1;36m, line \u001b[1;32m6\u001b[0m\n\u001b[1;33m    def _area_(self, l*b)\u001b[0m\n\u001b[1;37m                      ^\u001b[0m\n\u001b[1;31mSyntaxError\u001b[0m\u001b[1;31m:\u001b[0m invalid syntax\n"
     ]
    }
   ],
   "source": [
    "class calculation:\n",
    "    area=(l*b)\n",
    "    product=(a*b)\n",
    "    addition=(a+b)\n",
    "    subtraction=(a-b)\n",
    "    def _area_(self, l*b)\n",
    "    def _product_(a*b)\n",
    "    def _addition_(a+b)\n",
    "    def _subtraction_(a-b)\n",
    "    "
   ]
  },
  {
   "cell_type": "code",
   "execution_count": 56,
   "metadata": {},
   "outputs": [
    {
     "name": "stdout",
     "output_type": "stream",
     "text": [
      "This is a student class\n"
     ]
    }
   ],
   "source": [
    "# Static Method Implementation in python\n",
    "class Student:\n",
    "    name = 'Student'\n",
    "    def __init__(self, a, b):\n",
    "        self.a = a\n",
    "        self.b = b \n",
    "    \n",
    "    @staticmethod\n",
    "    def info():\n",
    "        return \"This is a student class\"\n",
    "\n",
    "print(Student.info())\n"
   ]
  },
  {
   "cell_type": "code",
   "execution_count": 25,
   "metadata": {},
   "outputs": [
    {
     "name": "stdout",
     "output_type": "stream",
     "text": [
      "30\n",
      "200\n"
     ]
    }
   ],
   "source": [
    "# Instance Method Example in Python \n",
    "class calculation:\n",
    "    \n",
    "    def __init__(self, a, b):\n",
    "        self.a = a\n",
    "        self.b = b \n",
    "    \n",
    "    def sum(self):\n",
    "        return (self.a + self.b)\n",
    "    \n",
    "    def product(self):\n",
    "        return (self.a*self.b)\n",
    "    \n",
    "s1= calculation (10,20)\n",
    "\n",
    "print( s1.sum() )\n",
    "print(s1.product())\n",
    "\n",
    "    \n",
    "\n"
   ]
  },
  {
   "cell_type": "code",
   "execution_count": 23,
   "metadata": {},
   "outputs": [
    {
     "name": "stdout",
     "output_type": "stream",
     "text": [
      "50\n",
      "600\n"
     ]
    }
   ],
   "source": [
    "class calculation:\n",
    "    \n",
    "    def __init__(self, a, b):\n",
    "        self.a = a\n",
    "        self.b = b \n",
    "        \n",
    "    def addition(self):\n",
    "        return (self.a + self.b)\n",
    "    def multiplication(self):\n",
    "        return (self.a* self.b)\n",
    "        \n",
    "    \n",
    "s1 = calculation(20, 30)\n",
    "\n",
    "print( s1.addition() )\n",
    "print( s1.multiplication ())\n",
    "\n"
   ]
  },
  {
   "cell_type": "code",
   "execution_count": 31,
   "metadata": {},
   "outputs": [
    {
     "name": "stdout",
     "output_type": "stream",
     "text": [
      "93\n"
     ]
    }
   ],
   "source": [
    "class calculation:\n",
    "    \n",
    "    def __init__(self, a,b):\n",
    "        self.a = a\n",
    "        self.b = b\n",
    "    \n",
    "\n",
    "    def subtraction(self):\n",
    "        return(self.a-self.b)\n",
    "    \n",
    "s1= calculation(100,7 )    \n",
    "    \n",
    "\n",
    "print( s1.subtraction()  )\n",
    "\n",
    "\n"
   ]
  },
  {
   "cell_type": "code",
   "execution_count": 20,
   "metadata": {},
   "outputs": [
    {
     "ename": "SyntaxError",
     "evalue": "unexpected EOF while parsing (<ipython-input-20-92685800c89b>, line 4)",
     "output_type": "error",
     "traceback": [
      "\u001b[1;36m  File \u001b[1;32m\"<ipython-input-20-92685800c89b>\"\u001b[1;36m, line \u001b[1;32m4\u001b[0m\n\u001b[1;33m    \u001b[0m\n\u001b[1;37m    ^\u001b[0m\n\u001b[1;31mSyntaxError\u001b[0m\u001b[1;31m:\u001b[0m unexpected EOF while parsing\n"
     ]
    }
   ],
   "source": [
    "class calculation:\n",
    "     \n",
    "        \n",
    "        "
   ]
  },
  {
   "cell_type": "code",
   "execution_count": 98,
   "metadata": {},
   "outputs": [
    {
     "name": "stdout",
     "output_type": "stream",
     "text": [
      "50\n",
      "10\n",
      "600\n"
     ]
    }
   ],
   "source": [
    "#######################################\n",
    "\n",
    "class calculation:\n",
    "    \n",
    "    def __init__(self, a, b):\n",
    "        self.a = a\n",
    "        self.b = b \n",
    "        \n",
    "    def addition(self):\n",
    "        return (self.a + self.b)\n",
    "    \n",
    "s1 = calculation(30, 20 )\n",
    "\n",
    "print( s1.addition() )\n",
    "class calculation:\n",
    "    \n",
    "    def __init__(self, a, b):\n",
    "        self.a = a\n",
    "        self.b = b \n",
    "        \n",
    "    def subtraction(self):\n",
    "        return (self.a - self.b)\n",
    "    \n",
    "s2 = calculation(30, 20 )\n",
    "\n",
    "print( s2.subtraction() )\n",
    "\n",
    "class calculation:\n",
    "    \n",
    "    def __init__(self, a, b):\n",
    "        self.a = a\n",
    "        self.b = b \n",
    "        \n",
    "    def product(self):\n",
    "        return (self.a * self.b)\n",
    "    \n",
    "s2 = calculation(30, 20 )\n",
    "\n",
    "print( s2.product() )\n",
    "\n"
   ]
  },
  {
   "cell_type": "code",
   "execution_count": 1,
   "metadata": {},
   "outputs": [],
   "source": [
    "class Card:\n",
    "    \n",
    "    insure= False\n",
    "\n",
    "    def __init__( self, rank, suit ):\n",
    "        \n",
    "        self.suit= suit\n",
    "        self.rank= rank\n",
    "        self.hard, self.soft = self._points()\n",
    "        \n",
    "class NumberCard( Card ):\n",
    "    \n",
    "    def _points( self ):\n",
    "        \n",
    "        return int(self.rank), int(self.rank)"
   ]
  },
  {
   "cell_type": "code",
   "execution_count": null,
   "metadata": {},
   "outputs": [],
   "source": []
  },
  {
   "cell_type": "code",
   "execution_count": 4,
   "metadata": {},
   "outputs": [
    {
     "ename": "NameError",
     "evalue": "name 'self' is not defined",
     "output_type": "error",
     "traceback": [
      "\u001b[1;31m---------------------------------------------------------------------------\u001b[0m",
      "\u001b[1;31mNameError\u001b[0m                                 Traceback (most recent call last)",
      "\u001b[1;32m<ipython-input-4-d5b0f096eca1>\u001b[0m in \u001b[0;36m<module>\u001b[1;34m\u001b[0m\n\u001b[0;32m     14\u001b[0m        \u001b[1;32mreturn\u001b[0m \u001b[1;34m\"{__class__.__name__}({dealer_card!r}, {_cards_str})\"\u001b[0m\u001b[1;33m\u001b[0m\u001b[1;33m\u001b[0m\u001b[0m\n\u001b[0;32m     15\u001b[0m format(\n\u001b[1;32m---> 16\u001b[1;33m \u001b[0m__class__\u001b[0m\u001b[1;33m=\u001b[0m \u001b[0mself\u001b[0m\u001b[1;33m.\u001b[0m\u001b[0m__class__\u001b[0m\u001b[1;33m,\u001b[0m\u001b[1;33m\u001b[0m\u001b[1;33m\u001b[0m\u001b[0m\n\u001b[0m\u001b[0;32m     17\u001b[0m \u001b[0m_cards_str\u001b[0m\u001b[1;33m=\u001b[0m\u001b[1;34m\", \"\u001b[0m\u001b[1;33m.\u001b[0m\u001b[0mjoin\u001b[0m\u001b[1;33m(\u001b[0m \u001b[0mmap\u001b[0m\u001b[1;33m(\u001b[0m\u001b[0mrepr\u001b[0m\u001b[1;33m,\u001b[0m \u001b[0mself\u001b[0m\u001b[1;33m.\u001b[0m\u001b[0mcards\u001b[0m\u001b[1;33m)\u001b[0m \u001b[1;33m)\u001b[0m\u001b[1;33m,\u001b[0m\u001b[1;33m\u001b[0m\u001b[1;33m\u001b[0m\u001b[0m\n\u001b[0;32m     18\u001b[0m **self.__dict__ )\n",
      "\u001b[1;31mNameError\u001b[0m: name 'self' is not defined"
     ]
    }
   ],
   "source": [
    "class Hand:\n",
    "    \n",
    "    def __init__( self, dealer_card, *cards ):\n",
    "        self.dealer_card= dealer_card\n",
    "        self.cards= list(cards)\n",
    "\n",
    "    def __str__( self ):\n",
    "        \n",
    "    \n",
    "        return \", \".join( map(str, self.cards) )\n",
    "    def __repr__( self ):\n",
    "    \n",
    "    \n",
    "       return \"{__class__.__name__}({dealer_card!r}, {_cards_str})\"\n",
    "format(\n",
    "__class__= self.__class__,\n",
    "_cards_str=\", \".join( map(repr, self.cards) ),\n",
    "**self.__dict__ )"
   ]
  },
  {
   "cell_type": "code",
   "execution_count": null,
   "metadata": {},
   "outputs": [],
   "source": []
  }
 ],
 "metadata": {
  "kernelspec": {
   "display_name": "Python 3",
   "language": "python",
   "name": "python3"
  },
  "language_info": {
   "codemirror_mode": {
    "name": "ipython",
    "version": 3
   },
   "file_extension": ".py",
   "mimetype": "text/x-python",
   "name": "python",
   "nbconvert_exporter": "python",
   "pygments_lexer": "ipython3",
   "version": "3.8.8"
  }
 },
 "nbformat": 4,
 "nbformat_minor": 4
}
